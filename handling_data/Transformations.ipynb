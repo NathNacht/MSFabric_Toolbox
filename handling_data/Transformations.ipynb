{
 "cells": [
  {
   "cell_type": "markdown",
   "metadata": {},
   "source": [
    "This notebook will contain transformations that are often used when doing ETL with data"
   ]
  },
  {
   "cell_type": "markdown",
   "metadata": {},
   "source": [
    "#### Creating a unique key\n",
    "\n",
    "When creating DIMENSION tables it's better to use a unique key and use that in the FACT table(s) later on."
   ]
  },
  {
   "cell_type": "code",
   "execution_count": null,
   "metadata": {},
   "outputs": [],
   "source": [
    "# disadvantage: a very long hashkey will be the unique key\n",
    "hashKeys = [col(\"CustomerNo\")]\n",
    "df_CustomersT1 = df_CustomersT1.withColumn(\"uniqueHash\", md5(concat_ws(\",\", *hashKeys)))"
   ]
  },
  {
   "cell_type": "code",
   "execution_count": null,
   "metadata": {},
   "outputs": [],
   "source": [
    "# just a hash from the customer number, identified negative values here as well\n",
    "df_CustomersT1 = df_CustomersT1.withColumn(\"CustomerKey\", hash(\"CustomerNo\"))"
   ]
  },
  {
   "cell_type": "code",
   "execution_count": null,
   "metadata": {},
   "outputs": [],
   "source": [
    "from uuid import uuid5, NAMESPACE_OID\n",
    "@udf\n",
    "def create_deterministic_uuid(column):\n",
    "    \"\"\"\n",
    "    Takes a column from a Pyspark Dataframe and returns the values as uuid5 hash.\n",
    "    If None or 0, the value assigned is 0.\n",
    "    \"\"\"\n",
    "    valuesMappedToZero = [None,\"0\",0,\"_NA\"]\n",
    "    if column in valuesMappedToZero:\n",
    "        return \"0\"\n",
    "    else:\n",
    "        return str(uuid5(NAMESPACE_OID, str(column)))\n",
    "\n",
    "df_with_key = df.withColumn(\"ProductKey\", create_deterministic_uuid(df[\"UniqueString\"]))\n"
   ]
  }
 ],
 "metadata": {
  "language_info": {
   "name": "python"
  }
 },
 "nbformat": 4,
 "nbformat_minor": 2
}
