{
 "cells": [
  {
   "cell_type": "markdown",
   "metadata": {},
   "source": [
    "This notebook will contain transformations that are often used when doing ETL with data"
   ]
  },
  {
   "cell_type": "markdown",
   "metadata": {},
   "source": [
    "#### Creating a unique key\n",
    "\n",
    "When creating DIMENSION tables it's better to use a unique key and use that in the FACT table(s) later on."
   ]
  },
  {
   "cell_type": "code",
   "execution_count": null,
   "metadata": {},
   "outputs": [],
   "source": [
    "# disadvantage: a very long hashkey will be the unique key\n",
    "hashKeys = [col(\"CustomerNo\")]\n",
    "df_CustomersT1 = df_CustomersT1.withColumn(\"uniqueHash\", md5(concat_ws(\",\", *hashKeys)))"
   ]
  },
  {
   "cell_type": "code",
   "execution_count": null,
   "metadata": {},
   "outputs": [],
   "source": [
    "# just a hash from the customer number, identified negative values here as well\n",
    "df_CustomersT1 = df_CustomersT1.withColumn(\"CustomerKey\", hash(\"CustomerNo\"))"
   ]
  }
 ],
 "metadata": {
  "language_info": {
   "name": "python"
  }
 },
 "nbformat": 4,
 "nbformat_minor": 2
}
